{
 "cells": [
  {
   "cell_type": "code",
   "execution_count": 10,
   "metadata": {
    "collapsed": true
   },
   "outputs": [],
   "source": [
    "#Plant Disease Recognition using CNN"
   ]
  },
  {
   "cell_type": "code",
   "execution_count": 4,
   "metadata": {},
   "outputs": [],
   "source": [
    "from keras.callbacks import EarlyStopping\n",
    "from keras.datasets import cifar10\n",
    "from keras.models import Sequential\n",
    "from keras.layers.core import Dense, Dropout, Flatten\n",
    "from keras.layers.convolutional import Conv2D\n",
    "from keras.optimizers import Adam\n",
    "from keras.layers.pooling import MaxPooling2D\n",
    "from keras.utils import to_categorical"
   ]
  },
  {
   "cell_type": "code",
   "execution_count": 5,
   "metadata": {
    "collapsed": true
   },
   "outputs": [],
   "source": [
    "#initialising the model"
   ]
  },
  {
   "cell_type": "code",
   "execution_count": 2,
   "metadata": {
    "collapsed": true
   },
   "outputs": [],
   "source": [
    "model = Sequential()"
   ]
  },
  {
   "cell_type": "code",
   "execution_count": 12,
   "metadata": {
    "collapsed": true
   },
   "outputs": [],
   "source": [
    "#adding layers to the model"
   ]
  },
  {
   "cell_type": "code",
   "execution_count": 3,
   "metadata": {
    "collapsed": true
   },
   "outputs": [],
   "source": [
    "model.add(Conv2D(64, kernel_size=(3, 3), activation='relu', input_shape=(32, 32, 3)))\n",
    "model.add(Conv2D(128, kernel_size=(3, 3), activation='relu'))\n",
    "model.add(MaxPooling2D(pool_size=(2, 2)))\n",
    "model.add(Dropout(0.25))\n",
    "\n",
    "model.add(Conv2D(256, kernel_size=(3, 3), activation='relu'))\n",
    "model.add(MaxPooling2D(pool_size=(2, 2)))\n",
    "model.add(Conv2D(256, kernel_size=(3, 3), activation='relu'))\n",
    "model.add(MaxPooling2D(pool_size=(2, 2)))\n",
    "model.add(Dropout(0.25))\n",
    "\n",
    "model.add(Flatten())\n",
    "model.add(Dense(2048, activation='relu'))\n",
    "model.add(Dropout(0.5))\n",
    "model.add(Dense(38, activation='softmax'))"
   ]
  },
  {
   "cell_type": "code",
   "execution_count": 18,
   "metadata": {},
   "outputs": [
    {
     "name": "stdout",
     "output_type": "stream",
     "text": [
      "_________________________________________________________________\n",
      "Layer (type)                 Output Shape              Param #   \n",
      "=================================================================\n",
      "conv2d_1 (Conv2D)            (None, 30, 30, 64)        1792      \n",
      "_________________________________________________________________\n",
      "conv2d_2 (Conv2D)            (None, 28, 28, 128)       73856     \n",
      "_________________________________________________________________\n",
      "max_pooling2d_1 (MaxPooling2 (None, 14, 14, 128)       0         \n",
      "_________________________________________________________________\n",
      "dropout_1 (Dropout)          (None, 14, 14, 128)       0         \n",
      "_________________________________________________________________\n",
      "conv2d_3 (Conv2D)            (None, 12, 12, 256)       295168    \n",
      "_________________________________________________________________\n",
      "max_pooling2d_2 (MaxPooling2 (None, 6, 6, 256)         0         \n",
      "_________________________________________________________________\n",
      "conv2d_4 (Conv2D)            (None, 4, 4, 256)         590080    \n",
      "_________________________________________________________________\n",
      "max_pooling2d_3 (MaxPooling2 (None, 2, 2, 256)         0         \n",
      "_________________________________________________________________\n",
      "dropout_2 (Dropout)          (None, 2, 2, 256)         0         \n",
      "_________________________________________________________________\n",
      "flatten_1 (Flatten)          (None, 1024)              0         \n",
      "_________________________________________________________________\n",
      "dense_1 (Dense)              (None, 2048)              2099200   \n",
      "_________________________________________________________________\n",
      "dropout_3 (Dropout)          (None, 2048)              0         \n",
      "_________________________________________________________________\n",
      "dense_2 (Dense)              (None, 38)                77862     \n",
      "=================================================================\n",
      "Total params: 3,137,958\n",
      "Trainable params: 3,137,958\n",
      "Non-trainable params: 0\n",
      "_________________________________________________________________\n"
     ]
    }
   ],
   "source": [
    "model.summary()\n"
   ]
  },
  {
   "cell_type": "code",
   "execution_count": 21,
   "metadata": {
    "collapsed": true
   },
   "outputs": [],
   "source": [
    "# Compile the model\n",
    "model.compile(loss='categorical_crossentropy',optimizer=Adam(lr=0.0001, decay=1e-6),metrics=['accuracy'])"
   ]
  },
  {
   "cell_type": "code",
   "execution_count": null,
   "metadata": {
    "collapsed": true
   },
   "outputs": [],
   "source": []
  },
  {
   "cell_type": "code",
   "execution_count": 5,
   "metadata": {
    "collapsed": true
   },
   "outputs": [],
   "source": [
    "from keras.preprocessing.image import ImageDataGenerator\n",
    "\n",
    "train_datagen = ImageDataGenerator(rescale = 1./255,\n",
    "                                   shear_range = 0.2,\n",
    "                                   zoom_range = 0.2,\n",
    "                                   horizontal_flip = True)\n",
    "\n",
    "test_datagen = ImageDataGenerator(rescale = 1./255)"
   ]
  },
  {
   "cell_type": "code",
   "execution_count": 6,
   "metadata": {},
   "outputs": [
    {
     "name": "stdout",
     "output_type": "stream",
     "text": [
      "Found 21917 images belonging to 38 classes.\n"
     ]
    }
   ],
   "source": [
    "training_set = train_datagen.flow_from_directory(r'D:\\Users\\Yash\\Desktop\\p2\\Image Dataset\\crowdai',\n",
    "                                                 target_size = (32,32),\n",
    "                                                 batch_size = 32,\n",
    "                                                 class_mode = 'categorical')"
   ]
  },
  {
   "cell_type": "code",
   "execution_count": 7,
   "metadata": {},
   "outputs": [
    {
     "name": "stderr",
     "output_type": "stream",
     "text": [
      "C:\\Users\\yashg\\Anaconda3\\lib\\site-packages\\ipykernel_launcher.py:4: UserWarning: The semantics of the Keras 2 argument `steps_per_epoch` is not the same as the Keras 1 argument `samples_per_epoch`. `steps_per_epoch` is the number of batches to draw from the generator at each epoch. Basically steps_per_epoch = samples_per_epoch/batch_size. Similarly `nb_val_samples`->`validation_steps` and `val_samples`->`steps` arguments have changed. Update your method calls accordingly.\n",
      "  after removing the cwd from sys.path.\n",
      "C:\\Users\\yashg\\Anaconda3\\lib\\site-packages\\ipykernel_launcher.py:4: UserWarning: Update your `fit_generator` call to the Keras 2 API: `fit_generator(<keras.pre..., steps_per_epoch=684, callbacks=[<keras.ca..., epochs=25)`\n",
      "  after removing the cwd from sys.path.\n"
     ]
    },
    {
     "name": "stdout",
     "output_type": "stream",
     "text": [
      "Epoch 1/25\n",
      "684/684 [==============================] - 592s 865ms/step - loss: 2.7410 - acc: 0.2617\n",
      "Epoch 2/25\n"
     ]
    },
    {
     "name": "stderr",
     "output_type": "stream",
     "text": [
      "C:\\Users\\yashg\\Anaconda3\\lib\\site-packages\\keras\\callbacks.py:526: RuntimeWarning: Early stopping conditioned on metric `val_loss` which is not available. Available metrics are: loss,acc\n",
      "  (self.monitor, ','.join(list(logs.keys()))), RuntimeWarning\n"
     ]
    },
    {
     "name": "stdout",
     "output_type": "stream",
     "text": [
      "684/684 [==============================] - 376s 550ms/step - loss: 1.6584 - acc: 0.5212\n",
      "Epoch 3/25\n",
      "684/684 [==============================] - 359s 525ms/step - loss: 1.2681 - acc: 0.6228\n",
      "Epoch 4/25\n",
      "684/684 [==============================] - 359s 524ms/step - loss: 1.0799 - acc: 0.6761\n",
      "Epoch 5/25\n",
      "684/684 [==============================] - 360s 526ms/step - loss: 0.9531 - acc: 0.7101\n",
      "Epoch 6/25\n",
      "684/684 [==============================] - 370s 540ms/step - loss: 0.8558 - acc: 0.7369\n",
      "Epoch 7/25\n",
      "684/684 [==============================] - 358s 524ms/step - loss: 0.7884 - acc: 0.7516\n",
      "Epoch 8/25\n",
      "684/684 [==============================] - 359s 524ms/step - loss: 0.7141 - acc: 0.7714\n",
      "Epoch 9/25\n",
      "684/684 [==============================] - 358s 524ms/step - loss: 0.6550 - acc: 0.7883\n",
      "Epoch 10/25\n",
      "684/684 [==============================] - 360s 526ms/step - loss: 0.6086 - acc: 0.8041\n",
      "Epoch 11/25\n",
      "684/684 [==============================] - 370s 541ms/step - loss: 0.5762 - acc: 0.8183\n",
      "Epoch 12/25\n",
      "684/684 [==============================] - 359s 524ms/step - loss: 0.5254 - acc: 0.8340\n",
      "Epoch 13/25\n",
      "684/684 [==============================] - 359s 525ms/step - loss: 0.4952 - acc: 0.8395\n",
      "Epoch 14/25\n",
      "684/684 [==============================] - 358s 524ms/step - loss: 0.4765 - acc: 0.8439\n",
      "Epoch 15/25\n",
      "684/684 [==============================] - 360s 527ms/step - loss: 0.4427 - acc: 0.8554\n",
      "Epoch 16/25\n",
      "684/684 [==============================] - 370s 541ms/step - loss: 0.4285 - acc: 0.8601\n",
      "Epoch 17/25\n",
      "684/684 [==============================] - 358s 524ms/step - loss: 0.4011 - acc: 0.8689\n",
      "Epoch 18/25\n",
      "684/684 [==============================] - 357s 522ms/step - loss: 0.3964 - acc: 0.8708\n",
      "Epoch 19/25\n",
      "684/684 [==============================] - 358s 523ms/step - loss: 0.3706 - acc: 0.8777\n",
      "Epoch 20/25\n",
      "684/684 [==============================] - 361s 528ms/step - loss: 0.3554 - acc: 0.8827\n",
      "Epoch 21/25\n",
      "684/684 [==============================] - 370s 541ms/step - loss: 0.3429 - acc: 0.8845\n",
      "Epoch 22/25\n",
      "684/684 [==============================] - 362s 530ms/step - loss: 0.3272 - acc: 0.8929\n",
      "Epoch 23/25\n",
      "684/684 [==============================] - 361s 528ms/step - loss: 0.3098 - acc: 0.8955\n",
      "Epoch 24/25\n",
      "684/684 [==============================] - 361s 528ms/step - loss: 0.3068 - acc: 0.8973\n",
      "Epoch 25/25\n",
      "684/684 [==============================] - 407s 594ms/step - loss: 0.2955 - acc: 0.9019\n"
     ]
    }
   ],
   "source": [
    "training = model.fit_generator(training_set,\n",
    "                        steps_per_epoch =684,\n",
    "                         nb_epoch = 25,\n",
    "                          callbacks=[EarlyStopping(min_delta=0.001, patience=3)])"
   ]
  },
  {
   "cell_type": "code",
   "execution_count": 15,
   "metadata": {
    "collapsed": true
   },
   "outputs": [],
   "source": [
    "from keras.models import save_model"
   ]
  },
  {
   "cell_type": "code",
   "execution_count": 17,
   "metadata": {
    "collapsed": true
   },
   "outputs": [],
   "source": [
    "model.save(r\"D:\\Users\\Yash\\Desktop\\p2\\Image Dataset\\plantdisease.h5\")"
   ]
  },
  {
   "cell_type": "code",
   "execution_count": 25,
   "metadata": {
    "collapsed": true
   },
   "outputs": [],
   "source": [
    "historydata = training.history"
   ]
  },
  {
   "cell_type": "code",
   "execution_count": 28,
   "metadata": {},
   "outputs": [
    {
     "data": {
      "text/plain": [
       "{'acc': [0.26168608634826496,\n",
       "  0.52117888962321013,\n",
       "  0.62280100522750526,\n",
       "  0.67612519990588971,\n",
       "  0.7100753940919341,\n",
       "  0.73689741831488176,\n",
       "  0.75165638566861448,\n",
       "  0.77144162667677341,\n",
       "  0.78825679689829609,\n",
       "  0.80406671237640526,\n",
       "  0.81832305232983404,\n",
       "  0.83395019417787375,\n",
       "  0.83947909528162756,\n",
       "  0.84391135481467716,\n",
       "  0.85538039754345074,\n",
       "  0.86008681743036597,\n",
       "  0.86895133656727719,\n",
       "  0.87082476585674484,\n",
       "  0.87772446881970345,\n",
       "  0.8826593557040332,\n",
       "  0.88453278502345989,\n",
       "  0.89294037009745342,\n",
       "  0.89554489376829838,\n",
       "  0.89732693623864601,\n",
       "  0.90189627599356681],\n",
       " 'loss': [2.7411619166519534,\n",
       "  1.6583747775962643,\n",
       "  1.2680475769016823,\n",
       "  1.0798872960929269,\n",
       "  0.953124354442342,\n",
       "  0.85568332721687546,\n",
       "  0.78838578986337204,\n",
       "  0.71410464429681042,\n",
       "  0.65499954064441979,\n",
       "  0.60853789860400975,\n",
       "  0.57625995929011864,\n",
       "  0.52539568211570953,\n",
       "  0.49519733604786736,\n",
       "  0.47650490399907108,\n",
       "  0.44266290913604289,\n",
       "  0.42848800525344993,\n",
       "  0.40111383165375186,\n",
       "  0.3964081102156165,\n",
       "  0.3705362817155517,\n",
       "  0.35539820192065552,\n",
       "  0.34290416613544589,\n",
       "  0.32720322328967977,\n",
       "  0.30980068284516904,\n",
       "  0.30674031880284813,\n",
       "  0.29553590986944916]}"
      ]
     },
     "execution_count": 28,
     "metadata": {},
     "output_type": "execute_result"
    }
   ],
   "source": [
    "historydata"
   ]
  },
  {
   "cell_type": "code",
   "execution_count": 30,
   "metadata": {
    "collapsed": true
   },
   "outputs": [],
   "source": [
    "import matplotlib.pyplot as plt"
   ]
  },
  {
   "cell_type": "code",
   "execution_count": 33,
   "metadata": {},
   "outputs": [
    {
     "data": {
      "image/png": "[encoded data removed]",
      "text/plain": [
       "<Figure size 1008x216 with 2 Axes>"
      ]
     },
     "metadata": {},
     "output_type": "display_data"
    }
   ],
   "source": [
    "plt.figure(figsize=(14,3))\n",
    "plt.subplot(1, 2, 1)\n",
    "plt.ylabel('Loss', fontsize=16)\n",
    "plt.xlabel('Epochs', fontsize=16) \n",
    " \n",
    "plt.plot(training.history['loss'], 'r', label='Training Loss', linewidth=3) \n",
    "plt.legend(loc='upper right') \n",
    " \n",
    "plt.subplot(1, 2, 2) \n",
    "plt.ylabel('Accuracy', fontsize=16) \n",
    "plt.xlabel('Epochs', fontsize=16) \n",
    "plt.plot(training.history['acc'], 'g', label='Training Accuracy' , linewidth=3) \n",
    "\n",
    "\n",
    "plt.legend(loc='lower right') \n",
    "plt.show() "
   ]
  },
  {
   "cell_type": "code",
   "execution_count": 36,
   "metadata": {},
   "outputs": [
    {
     "name": "stdout",
     "output_type": "stream",
     "text": [
      "{'c_0': 0, 'c_1': 1, 'c_10': 2, 'c_11': 3, 'c_12': 4, 'c_13': 5, 'c_14': 6, 'c_15': 7, 'c_16': 8, 'c_17': 9, 'c_18': 10, 'c_19': 11, 'c_2': 12, 'c_20': 13, 'c_21': 14, 'c_22': 15, 'c_23': 16, 'c_24': 17, 'c_25': 18, 'c_26': 19, 'c_27': 20, 'c_28': 21, 'c_29': 22, 'c_3': 23, 'c_30': 24, 'c_31': 25, 'c_32': 26, 'c_33': 27, 'c_34': 28, 'c_35': 29, 'c_36': 30, 'c_37': 31, 'c_4': 32, 'c_5': 33, 'c_6': 34, 'c_7': 35, 'c_8': 36, 'c_9': 37}\n"
     ]
    }
   ],
   "source": [
    "label_map = (training_set.class_indices)\n",
    "print(label_map)"
   ]
  },
  {
   "cell_type": "code",
   "execution_count": 39,
   "metadata": {
    "collapsed": true
   },
   "outputs": [],
   "source": [
    "#testing for a single image \n",
    "from keras.preprocessing import image as image_utils \n",
    "import numpy as np\n",
    "\n",
    "test_image = image_utils.load_img(r'D:\\Users\\Yash\\Desktop\\p2\\Image Dataset\\testing image\\1.jpg', target_size=(32, 32)) \n",
    "test_image = image_utils.img_to_array(test_image) \n",
    "test_image = np.expand_dims(test_image, axis=0) \n",
    "result = model.predict_on_batch(test_image) \n",
    " \n",
    " "
   ]
  },
  {
   "cell_type": "code",
   "execution_count": 42,
   "metadata": {},
   "outputs": [
    {
     "name": "stdout",
     "output_type": "stream",
     "text": [
      "[[ 0.  0.  0.  0.  0.  0.  0.  0.  0.  0.  0.  0.  0.  0.  0.  0.  0.  0.\n",
      "   0.  0.  0.  0.  0.  0.  0.  0.  0.  0.  0.  0.  0.  0.  1.  0.  0.  0.\n",
      "   0.  0.]]\n"
     ]
    }
   ],
   "source": [
    "print(result)"
   ]
  },
  {
   "cell_type": "code",
   "execution_count": 44,
   "metadata": {},
   "outputs": [
    {
     "name": "stdout",
     "output_type": "stream",
     "text": [
      "c_4\n"
     ]
    }
   ],
   "source": [
    "print(list(label_map.keys())[list(label_map.values()).index(np.argmax(result))])"
   ]
  },
  {
   "cell_type": "code",
   "execution_count": 53,
   "metadata": {
    "collapsed": true
   },
   "outputs": [],
   "source": [
    "test_image = image_utils.load_img(r'D:\\Users\\Yash\\Desktop\\p2\\Image Dataset\\crowdai - Copy\\train\\c_18\\0c2392f6-3e69-4baf-b9f3-197623f6631a___JR_B.Spot 3176.jpg', target_size=(32, 32)) \n",
    "test_image = image_utils.img_to_array(test_image) \n",
    "test_image = np.expand_dims(test_image, axis=0) \n",
    "result = model.predict_on_batch(test_image) \n",
    " "
   ]
  },
  {
   "cell_type": "code",
   "execution_count": 54,
   "metadata": {},
   "outputs": [
    {
     "name": "stdout",
     "output_type": "stream",
     "text": [
      "c_19\n"
     ]
    }
   ],
   "source": [
    "print(list(label_map.keys())[list(label_map.values()).index(np.argmax(result))])"
   ]
  },
  {
   "cell_type": "code",
   "execution_count": 8,
   "metadata": {},
   "outputs": [
    {
     "ename": "TypeError",
     "evalue": "Unexpected keyword argument passed to optimizer: amsgrad",
     "output_type": "error",
     "traceback": [
      "\u001b[0;31m---------------------------------------------------------------------------\u001b[0m",
      "\u001b[0;31mTypeError\u001b[0m                                 Traceback (most recent call last)",
      "\u001b[0;32m<ipython-input-8-a0fc3d6175b0>\u001b[0m in \u001b[0;36m<module>\u001b[0;34m()\u001b[0m\n\u001b[1;32m      3\u001b[0m \u001b[0;32mimport\u001b[0m \u001b[0mos\u001b[0m\u001b[0;34m\u001b[0m\u001b[0m\n\u001b[1;32m      4\u001b[0m \u001b[0;32mimport\u001b[0m \u001b[0mpickle\u001b[0m\u001b[0;34m\u001b[0m\u001b[0m\n\u001b[0;32m----> 5\u001b[0;31m \u001b[0mmodel\u001b[0m \u001b[0;34m=\u001b[0m \u001b[0mload_model\u001b[0m\u001b[0;34m(\u001b[0m\u001b[0;34m'plantdisease.h5'\u001b[0m\u001b[0;34m)\u001b[0m\u001b[0;34m\u001b[0m\u001b[0m\n\u001b[0m",
      "\u001b[0;32m/home/shuja1497/anaconda2/lib/python2.7/site-packages/keras/models.pyc\u001b[0m in \u001b[0;36mload_model\u001b[0;34m(filepath, custom_objects, compile)\u001b[0m\n\u001b[1;32m    262\u001b[0m         \u001b[0moptimizer_config\u001b[0m \u001b[0;34m=\u001b[0m \u001b[0mtraining_config\u001b[0m\u001b[0;34m[\u001b[0m\u001b[0;34m'optimizer_config'\u001b[0m\u001b[0;34m]\u001b[0m\u001b[0;34m\u001b[0m\u001b[0m\n\u001b[1;32m    263\u001b[0m         optimizer = optimizers.deserialize(optimizer_config,\n\u001b[0;32m--> 264\u001b[0;31m                                            custom_objects=custom_objects)\n\u001b[0m\u001b[1;32m    265\u001b[0m \u001b[0;34m\u001b[0m\u001b[0m\n\u001b[1;32m    266\u001b[0m         \u001b[0;31m# Recover loss functions and metrics.\u001b[0m\u001b[0;34m\u001b[0m\u001b[0;34m\u001b[0m\u001b[0m\n",
      "\u001b[0;32m/home/shuja1497/anaconda2/lib/python2.7/site-packages/keras/optimizers.pyc\u001b[0m in \u001b[0;36mdeserialize\u001b[0;34m(config, custom_objects)\u001b[0m\n\u001b[1;32m    675\u001b[0m                                     \u001b[0mmodule_objects\u001b[0m\u001b[0;34m=\u001b[0m\u001b[0mall_classes\u001b[0m\u001b[0;34m,\u001b[0m\u001b[0;34m\u001b[0m\u001b[0m\n\u001b[1;32m    676\u001b[0m                                     \u001b[0mcustom_objects\u001b[0m\u001b[0;34m=\u001b[0m\u001b[0mcustom_objects\u001b[0m\u001b[0;34m,\u001b[0m\u001b[0;34m\u001b[0m\u001b[0m\n\u001b[0;32m--> 677\u001b[0;31m                                     printable_module_name='optimizer')\n\u001b[0m\u001b[1;32m    678\u001b[0m \u001b[0;34m\u001b[0m\u001b[0m\n\u001b[1;32m    679\u001b[0m \u001b[0;34m\u001b[0m\u001b[0m\n",
      "\u001b[0;32m/home/shuja1497/anaconda2/lib/python2.7/site-packages/keras/utils/generic_utils.pyc\u001b[0m in \u001b[0;36mdeserialize_keras_object\u001b[0;34m(identifier, module_objects, custom_objects, printable_module_name)\u001b[0m\n\u001b[1;32m    140\u001b[0m                                                            list(custom_objects.items())))\n\u001b[1;32m    141\u001b[0m             \u001b[0;32mwith\u001b[0m \u001b[0mCustomObjectScope\u001b[0m\u001b[0;34m(\u001b[0m\u001b[0mcustom_objects\u001b[0m\u001b[0;34m)\u001b[0m\u001b[0;34m:\u001b[0m\u001b[0;34m\u001b[0m\u001b[0m\n\u001b[0;32m--> 142\u001b[0;31m                 \u001b[0;32mreturn\u001b[0m \u001b[0mcls\u001b[0m\u001b[0;34m.\u001b[0m\u001b[0mfrom_config\u001b[0m\u001b[0;34m(\u001b[0m\u001b[0mconfig\u001b[0m\u001b[0;34m[\u001b[0m\u001b[0;34m'config'\u001b[0m\u001b[0;34m]\u001b[0m\u001b[0;34m)\u001b[0m\u001b[0;34m\u001b[0m\u001b[0m\n\u001b[0m\u001b[1;32m    143\u001b[0m         \u001b[0;32melse\u001b[0m\u001b[0;34m:\u001b[0m\u001b[0;34m\u001b[0m\u001b[0m\n\u001b[1;32m    144\u001b[0m             \u001b[0;31m# Then `cls` may be a function returning a class.\u001b[0m\u001b[0;34m\u001b[0m\u001b[0;34m\u001b[0m\u001b[0m\n",
      "\u001b[0;32m/home/shuja1497/anaconda2/lib/python2.7/site-packages/keras/optimizers.pyc\u001b[0m in \u001b[0;36mfrom_config\u001b[0;34m(cls, config)\u001b[0m\n\u001b[1;32m    123\u001b[0m     \u001b[0;34m@\u001b[0m\u001b[0mclassmethod\u001b[0m\u001b[0;34m\u001b[0m\u001b[0m\n\u001b[1;32m    124\u001b[0m     \u001b[0;32mdef\u001b[0m \u001b[0mfrom_config\u001b[0m\u001b[0;34m(\u001b[0m\u001b[0mcls\u001b[0m\u001b[0;34m,\u001b[0m \u001b[0mconfig\u001b[0m\u001b[0;34m)\u001b[0m\u001b[0;34m:\u001b[0m\u001b[0;34m\u001b[0m\u001b[0m\n\u001b[0;32m--> 125\u001b[0;31m         \u001b[0;32mreturn\u001b[0m \u001b[0mcls\u001b[0m\u001b[0;34m(\u001b[0m\u001b[0;34m**\u001b[0m\u001b[0mconfig\u001b[0m\u001b[0;34m)\u001b[0m\u001b[0;34m\u001b[0m\u001b[0m\n\u001b[0m\u001b[1;32m    126\u001b[0m \u001b[0;34m\u001b[0m\u001b[0m\n\u001b[1;32m    127\u001b[0m \u001b[0;34m\u001b[0m\u001b[0m\n",
      "\u001b[0;32m/home/shuja1497/anaconda2/lib/python2.7/site-packages/keras/optimizers.pyc\u001b[0m in \u001b[0;36m__init__\u001b[0;34m(self, lr, beta_1, beta_2, epsilon, decay, **kwargs)\u001b[0m\n\u001b[1;32m    393\u001b[0m     def __init__(self, lr=0.001, beta_1=0.9, beta_2=0.999,\n\u001b[1;32m    394\u001b[0m                  epsilon=1e-8, decay=0., **kwargs):\n\u001b[0;32m--> 395\u001b[0;31m         \u001b[0msuper\u001b[0m\u001b[0;34m(\u001b[0m\u001b[0mAdam\u001b[0m\u001b[0;34m,\u001b[0m \u001b[0mself\u001b[0m\u001b[0;34m)\u001b[0m\u001b[0;34m.\u001b[0m\u001b[0m__init__\u001b[0m\u001b[0;34m(\u001b[0m\u001b[0;34m**\u001b[0m\u001b[0mkwargs\u001b[0m\u001b[0;34m)\u001b[0m\u001b[0;34m\u001b[0m\u001b[0m\n\u001b[0m\u001b[1;32m    396\u001b[0m         \u001b[0mself\u001b[0m\u001b[0;34m.\u001b[0m\u001b[0miterations\u001b[0m \u001b[0;34m=\u001b[0m \u001b[0mK\u001b[0m\u001b[0;34m.\u001b[0m\u001b[0mvariable\u001b[0m\u001b[0;34m(\u001b[0m\u001b[0;36m0\u001b[0m\u001b[0;34m,\u001b[0m \u001b[0mname\u001b[0m\u001b[0;34m=\u001b[0m\u001b[0;34m'iterations'\u001b[0m\u001b[0;34m)\u001b[0m\u001b[0;34m\u001b[0m\u001b[0m\n\u001b[1;32m    397\u001b[0m         \u001b[0mself\u001b[0m\u001b[0;34m.\u001b[0m\u001b[0mlr\u001b[0m \u001b[0;34m=\u001b[0m \u001b[0mK\u001b[0m\u001b[0;34m.\u001b[0m\u001b[0mvariable\u001b[0m\u001b[0;34m(\u001b[0m\u001b[0mlr\u001b[0m\u001b[0;34m,\u001b[0m \u001b[0mname\u001b[0m\u001b[0;34m=\u001b[0m\u001b[0;34m'lr'\u001b[0m\u001b[0;34m)\u001b[0m\u001b[0;34m\u001b[0m\u001b[0m\n",
      "\u001b[0;32m/home/shuja1497/anaconda2/lib/python2.7/site-packages/keras/optimizers.pyc\u001b[0m in \u001b[0;36m__init__\u001b[0;34m(self, **kwargs)\u001b[0m\n\u001b[1;32m     60\u001b[0m             \u001b[0;32mif\u001b[0m \u001b[0mk\u001b[0m \u001b[0;32mnot\u001b[0m \u001b[0;32min\u001b[0m \u001b[0mallowed_kwargs\u001b[0m\u001b[0;34m:\u001b[0m\u001b[0;34m\u001b[0m\u001b[0m\n\u001b[1;32m     61\u001b[0m                 raise TypeError('Unexpected keyword argument '\n\u001b[0;32m---> 62\u001b[0;31m                                 'passed to optimizer: ' + str(k))\n\u001b[0m\u001b[1;32m     63\u001b[0m         \u001b[0mself\u001b[0m\u001b[0;34m.\u001b[0m\u001b[0m__dict__\u001b[0m\u001b[0;34m.\u001b[0m\u001b[0mupdate\u001b[0m\u001b[0;34m(\u001b[0m\u001b[0mkwargs\u001b[0m\u001b[0;34m)\u001b[0m\u001b[0;34m\u001b[0m\u001b[0m\n\u001b[1;32m     64\u001b[0m         \u001b[0mself\u001b[0m\u001b[0;34m.\u001b[0m\u001b[0mupdates\u001b[0m \u001b[0;34m=\u001b[0m \u001b[0;34m[\u001b[0m\u001b[0;34m]\u001b[0m\u001b[0;34m\u001b[0m\u001b[0m\n",
      "\u001b[0;31mTypeError\u001b[0m: Unexpected keyword argument passed to optimizer: amsgrad"
     ]
    }
   ],
   "source": [
    "from keras.models import load_model\n",
    "import numpy as np\n",
    "import os\n",
    "import pickle\n",
    "model = load_model('plantdisease.h5')"
   ]
  },
  {
   "cell_type": "code",
   "execution_count": null,
   "metadata": {
    "collapsed": true
   },
   "outputs": [],
   "source": []
  }
 ],
 "metadata": {
  "kernelspec": {
   "display_name": "Python 2",
   "language": "python",
   "name": "python2"
  },
  "language_info": {
   "codemirror_mode": {
    "name": "ipython",
    "version": 2
   },
   "file_extension": ".py",
   "mimetype": "text/x-python",
   "name": "python",
   "nbconvert_exporter": "python",
   "pygments_lexer": "ipython2",
   "version": "2.7.13"
  }
 },
 "nbformat": 4,
 "nbformat_minor": 2
}
